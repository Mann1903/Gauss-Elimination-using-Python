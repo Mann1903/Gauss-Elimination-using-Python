{
  "nbformat": 4,
  "nbformat_minor": 0,
  "metadata": {
    "colab": {
      "provenance": []
    },
    "kernelspec": {
      "name": "python3",
      "display_name": "Python 3"
    },
    "language_info": {
      "name": "python"
    }
  },
  "cells": [
    {
      "cell_type": "code",
      "execution_count": 1,
      "metadata": {
        "colab": {
          "base_uri": "https://localhost:8080/"
        },
        "id": "c8nLsYnPjZP_",
        "outputId": "a37bba81-cc1d-40d7-e166-a51233fab09b"
      },
      "outputs": [
        {
          "output_type": "stream",
          "name": "stdout",
          "text": [
            "Step 1:\n",
            "Operation: R1 <-> R2\n",
            "[[-3. -1.  2.  3.]\n",
            " [ 1.  2. -1.  1.]\n",
            " [-2.  1.  2. -3.]]\n",
            "\n",
            "Step 2:\n",
            "Operation: R2 -> R2 - (-0.33)*R1\n",
            "[[-3.         -1.          2.          3.        ]\n",
            " [ 0.          1.66666667 -0.33333333  2.        ]\n",
            " [-2.          1.          2.         -3.        ]]\n",
            "\n",
            "Step 3:\n",
            "Operation: R3 -> R3 - (0.67)*R1\n",
            "[[-3.         -1.          2.          3.        ]\n",
            " [ 0.          1.66666667 -0.33333333  2.        ]\n",
            " [ 0.          1.66666667  0.66666667 -5.        ]]\n",
            "\n",
            "Step 4:\n",
            "Operation: R3 -> R3 - (1.00)*R2\n",
            "[[-3.         -1.          2.          3.        ]\n",
            " [ 0.          1.66666667 -0.33333333  2.        ]\n",
            " [ 0.          0.          1.         -7.        ]]\n",
            "\n",
            "Step 5:\n",
            "Operation: Back Substitution for x3\n",
            "[[-3.         -1.          2.         17.        ]\n",
            " [ 0.          1.66666667 -0.33333333 -0.33333333]\n",
            " [ 0.          0.          1.         -7.        ]]\n",
            "\n",
            "Step 6:\n",
            "Operation: Back Substitution for x2\n",
            "[[-3.         -1.          2.         16.8       ]\n",
            " [ 0.          1.66666667 -0.33333333 -0.33333333]\n",
            " [ 0.          0.          1.         -7.        ]]\n",
            "\n",
            "Step 7:\n",
            "Operation: Back Substitution for x1\n",
            "[[-3.         -1.          2.         16.8       ]\n",
            " [ 0.          1.66666667 -0.33333333 -0.33333333]\n",
            " [ 0.          0.          1.         -7.        ]]\n",
            "\n",
            "Solution:\n",
            "[-5.6 -0.2 -7. ]\n"
          ]
        }
      ],
      "source": [
        "import numpy as np\n",
        "\n",
        "def print_matrix(matrix, step, row_op=None):\n",
        "    print(f\"Step {step}:\")\n",
        "    if row_op:\n",
        "        print(f\"Operation: {row_op}\")\n",
        "    print(np.array(matrix))\n",
        "    print()\n",
        "\n",
        "def gauss_elimination(matrix):\n",
        "    matrix = np.array(matrix, dtype=float)  # Convert the matrix to a NumPy array\n",
        "    n = len(matrix)\n",
        "    step = 0\n",
        "\n",
        "    # Forward elimination\n",
        "    for i in range(n):\n",
        "        # Partial pivoting\n",
        "        max_row = i + np.argmax(np.abs(matrix[i:, i]))\n",
        "        if max_row != i:\n",
        "            matrix[[i, max_row]] = matrix[[max_row, i]]\n",
        "            step += 1\n",
        "            print_matrix(matrix, step, f\"R{i+1} <-> R{max_row+1}\")\n",
        "\n",
        "        # Make all rows below this one 0 in the current column\n",
        "        for j in range(i + 1, n):\n",
        "            factor = matrix[j][i] / matrix[i][i]\n",
        "            matrix[j, i:] -= factor * matrix[i, i:]\n",
        "            step += 1\n",
        "            print_matrix(matrix, step, f\"R{j+1} -> R{j+1} - ({factor:.2f})*R{i+1}\")\n",
        "\n",
        "    # Back substitution\n",
        "    x = np.zeros(n)\n",
        "    for i in range(n - 1, -1, -1):\n",
        "        x[i] = matrix[i][n] / matrix[i][i]\n",
        "        for j in range(i - 1, -1, -1):\n",
        "            matrix[j][n] -= matrix[j][i] * x[i]\n",
        "        step += 1\n",
        "        print_matrix(matrix, step, f\"Back Substitution for x{i+1}\")\n",
        "\n",
        "    return x\n",
        "\n",
        "# Example usage\n",
        "matrix = [\n",
        "    [1, 2, -1, 1],    # 2x - y + z = 8\n",
        "    [-3, -1, 2, 3],  # -3x - y + 2z = -11\n",
        "    [-2, 1, 2, -3]     # -2x + y + 2z = -3\n",
        "]\n",
        "\n",
        "solution = gauss_elimination(matrix)\n",
        "print(\"Solution:\")\n",
        "print(solution)\n"
      ]
    },
    {
      "cell_type": "code",
      "source": [],
      "metadata": {
        "id": "dy3zWDNFjhE4"
      },
      "execution_count": null,
      "outputs": []
    }
  ]
}